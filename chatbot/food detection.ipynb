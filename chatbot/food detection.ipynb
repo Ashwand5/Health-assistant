{
 "cells": [
  {
   "cell_type": "code",
   "execution_count": null,
   "id": "ab9d497b",
   "metadata": {},
   "outputs": [],
   "source": [
    "import tensorflow "
   ]
  },
  {
   "cell_type": "code",
   "execution_count": null,
   "id": "c26a45e5dc27ce5c",
   "metadata": {
    "ExecuteTime": {
     "end_time": "2025-04-02T04:52:18.094288Z",
     "start_time": "2025-04-02T04:52:02.321974Z"
    }
   },
   "outputs": [],
   "source": [
    "import tensorflow as tf\n",
    "from tensorflow.keras.models import load_model\n",
    "from tensorflow.keras.preprocessing import image\n",
    "import numpy as np\n",
    "\n",
    "# 1. Load the trained model\n",
    "model = load_model(\"best_food_model.keras\")\n",
    "\n",
    "# 2. Function to preprocess an image\n",
    "def preprocess_image(img_path):\n",
    "    # Load image and resize to 150x150 (same as training)\n",
    "    img = image.load_img(img_path, target_size=(150, 150))\n",
    "    # Convert to array\n",
    "    img_array = image.img_to_array(img)\n",
    "    # Rescale pixel values to [0, 1] (same as training)\n",
    "    img_array = img_array / 255.0\n",
    "    # Add batch dimension (shape: (1, 150, 150, 3))\n",
    "    img_array = np.expand_dims(img_array, axis=0)\n",
    "    return img_array\n",
    "\n",
    "# 3. Path to your test image (replace with your image path)\n",
    "test_image_path = \"path/to/your/test_image.jpg\"  # e.g., a picture of pizza or a car\n",
    "\n",
    "# 4. Preprocess the test image\n",
    "preprocessed_image = preprocess_image(test_image_path)\n",
    "\n",
    "# 5. Make a prediction\n",
    "prediction = model.predict(preprocessed_image)\n",
    "\n",
    "# 6. Interpret the result\n",
    "threshold = 0.5\n",
    "if prediction[0][0] >= threshold:\n",
    "    print(f\"Prediction: Food (Probability: {prediction[0][0]:.4f})\")\n",
    "else:\n",
    "    print(f\"Prediction: Non-Food (Probability: {prediction[0][0]:.4f})\")"
   ]
  },
  {
   "cell_type": "code",
   "id": "3a4e78721779303a",
   "metadata": {
    "ExecuteTime": {
     "end_time": "2025-04-07T08:47:20.115092Z",
     "start_time": "2025-04-07T08:47:14.811098Z"
    }
   },
   "source": [
    "import tensorflow as tf\n",
    "from tensorflow.keras.models import load_model\n",
    "from tensorflow.keras.preprocessing import image\n",
    "import numpy as np"
   ],
   "outputs": [],
   "execution_count": 1
  },
  {
   "cell_type": "code",
   "id": "ec3470416d4c33ab",
   "metadata": {
    "ExecuteTime": {
     "end_time": "2025-04-07T08:51:35.007914Z",
     "start_time": "2025-04-07T08:51:34.992833Z"
    }
   },
   "source": "model_path = \"C:\\\\Users\\\\ashwa\\\\Downloads\\\\results\\\\best_food_model.keras\"",
   "outputs": [],
   "execution_count": 4
  },
  {
   "metadata": {
    "ExecuteTime": {
     "end_time": "2025-04-07T08:58:53.903590Z",
     "start_time": "2025-04-07T08:58:53.894768Z"
    }
   },
   "cell_type": "code",
   "source": [
    "import h5py\n",
    "\n",
    "model_path = \"C:\\\\Users\\\\ashwa\\\\Downloads\\\\results\\\\best_food_model.keras\"\n",
    "try:\n",
    "    with h5py.File(model_path, 'r') as f:\n",
    "        print(\"File is a valid HDF5 file. Keys:\", list(f.keys()))\n",
    "except Exception as e:\n",
    "    print(f\"Error: {e}\")"
   ],
   "id": "20af442d7ed74853",
   "outputs": [
    {
     "name": "stdout",
     "output_type": "stream",
     "text": [
      "Error: Unable to synchronously open file (file signature not found)\n"
     ]
    }
   ],
   "execution_count": 13
  },
  {
   "metadata": {
    "ExecuteTime": {
     "end_time": "2025-04-07T08:58:19.258302Z",
     "start_time": "2025-04-07T08:58:19.184220Z"
    }
   },
   "cell_type": "code",
   "source": "model = load_model(model_path)",
   "id": "f386056dba656c3e",
   "outputs": [
    {
     "ename": "OSError",
     "evalue": "Unable to synchronously open file (file signature not found)",
     "output_type": "error",
     "traceback": [
      "\u001B[1;31m---------------------------------------------------------------------------\u001B[0m",
      "\u001B[1;31mOSError\u001B[0m                                   Traceback (most recent call last)",
      "Cell \u001B[1;32mIn[12], line 1\u001B[0m\n\u001B[1;32m----> 1\u001B[0m model \u001B[38;5;241m=\u001B[39m \u001B[43mload_model\u001B[49m\u001B[43m(\u001B[49m\u001B[43mmodel_path\u001B[49m\u001B[43m)\u001B[49m\n",
      "File \u001B[1;32m~\\.conda\\envs\\gpu\\lib\\site-packages\\keras\\utils\\traceback_utils.py:70\u001B[0m, in \u001B[0;36mfilter_traceback.<locals>.error_handler\u001B[1;34m(*args, **kwargs)\u001B[0m\n\u001B[0;32m     67\u001B[0m     filtered_tb \u001B[38;5;241m=\u001B[39m _process_traceback_frames(e\u001B[38;5;241m.\u001B[39m__traceback__)\n\u001B[0;32m     68\u001B[0m     \u001B[38;5;66;03m# To get the full stack trace, call:\u001B[39;00m\n\u001B[0;32m     69\u001B[0m     \u001B[38;5;66;03m# `tf.debugging.disable_traceback_filtering()`\u001B[39;00m\n\u001B[1;32m---> 70\u001B[0m     \u001B[38;5;28;01mraise\u001B[39;00m e\u001B[38;5;241m.\u001B[39mwith_traceback(filtered_tb) \u001B[38;5;28;01mfrom\u001B[39;00m \u001B[38;5;28;01mNone\u001B[39;00m\n\u001B[0;32m     71\u001B[0m \u001B[38;5;28;01mfinally\u001B[39;00m:\n\u001B[0;32m     72\u001B[0m     \u001B[38;5;28;01mdel\u001B[39;00m filtered_tb\n",
      "File \u001B[1;32m~\\.conda\\envs\\gpu\\lib\\site-packages\\h5py\\_hl\\files.py:561\u001B[0m, in \u001B[0;36mFile.__init__\u001B[1;34m(self, name, mode, driver, libver, userblock_size, swmr, rdcc_nslots, rdcc_nbytes, rdcc_w0, track_order, fs_strategy, fs_persist, fs_threshold, fs_page_size, page_buf_size, min_meta_keep, min_raw_keep, locking, alignment_threshold, alignment_interval, meta_block_size, **kwds)\u001B[0m\n\u001B[0;32m    552\u001B[0m     fapl \u001B[38;5;241m=\u001B[39m make_fapl(driver, libver, rdcc_nslots, rdcc_nbytes, rdcc_w0,\n\u001B[0;32m    553\u001B[0m                      locking, page_buf_size, min_meta_keep, min_raw_keep,\n\u001B[0;32m    554\u001B[0m                      alignment_threshold\u001B[38;5;241m=\u001B[39malignment_threshold,\n\u001B[0;32m    555\u001B[0m                      alignment_interval\u001B[38;5;241m=\u001B[39malignment_interval,\n\u001B[0;32m    556\u001B[0m                      meta_block_size\u001B[38;5;241m=\u001B[39mmeta_block_size,\n\u001B[0;32m    557\u001B[0m                      \u001B[38;5;241m*\u001B[39m\u001B[38;5;241m*\u001B[39mkwds)\n\u001B[0;32m    558\u001B[0m     fcpl \u001B[38;5;241m=\u001B[39m make_fcpl(track_order\u001B[38;5;241m=\u001B[39mtrack_order, fs_strategy\u001B[38;5;241m=\u001B[39mfs_strategy,\n\u001B[0;32m    559\u001B[0m                      fs_persist\u001B[38;5;241m=\u001B[39mfs_persist, fs_threshold\u001B[38;5;241m=\u001B[39mfs_threshold,\n\u001B[0;32m    560\u001B[0m                      fs_page_size\u001B[38;5;241m=\u001B[39mfs_page_size)\n\u001B[1;32m--> 561\u001B[0m     fid \u001B[38;5;241m=\u001B[39m \u001B[43mmake_fid\u001B[49m\u001B[43m(\u001B[49m\u001B[43mname\u001B[49m\u001B[43m,\u001B[49m\u001B[43m \u001B[49m\u001B[43mmode\u001B[49m\u001B[43m,\u001B[49m\u001B[43m \u001B[49m\u001B[43muserblock_size\u001B[49m\u001B[43m,\u001B[49m\u001B[43m \u001B[49m\u001B[43mfapl\u001B[49m\u001B[43m,\u001B[49m\u001B[43m \u001B[49m\u001B[43mfcpl\u001B[49m\u001B[43m,\u001B[49m\u001B[43m \u001B[49m\u001B[43mswmr\u001B[49m\u001B[38;5;241;43m=\u001B[39;49m\u001B[43mswmr\u001B[49m\u001B[43m)\u001B[49m\n\u001B[0;32m    563\u001B[0m \u001B[38;5;28;01mif\u001B[39;00m \u001B[38;5;28misinstance\u001B[39m(libver, \u001B[38;5;28mtuple\u001B[39m):\n\u001B[0;32m    564\u001B[0m     \u001B[38;5;28mself\u001B[39m\u001B[38;5;241m.\u001B[39m_libver \u001B[38;5;241m=\u001B[39m libver\n",
      "File \u001B[1;32m~\\.conda\\envs\\gpu\\lib\\site-packages\\h5py\\_hl\\files.py:235\u001B[0m, in \u001B[0;36mmake_fid\u001B[1;34m(name, mode, userblock_size, fapl, fcpl, swmr)\u001B[0m\n\u001B[0;32m    233\u001B[0m     \u001B[38;5;28;01mif\u001B[39;00m swmr \u001B[38;5;129;01mand\u001B[39;00m swmr_support:\n\u001B[0;32m    234\u001B[0m         flags \u001B[38;5;241m|\u001B[39m\u001B[38;5;241m=\u001B[39m h5f\u001B[38;5;241m.\u001B[39mACC_SWMR_READ\n\u001B[1;32m--> 235\u001B[0m     fid \u001B[38;5;241m=\u001B[39m \u001B[43mh5f\u001B[49m\u001B[38;5;241;43m.\u001B[39;49m\u001B[43mopen\u001B[49m\u001B[43m(\u001B[49m\u001B[43mname\u001B[49m\u001B[43m,\u001B[49m\u001B[43m \u001B[49m\u001B[43mflags\u001B[49m\u001B[43m,\u001B[49m\u001B[43m \u001B[49m\u001B[43mfapl\u001B[49m\u001B[38;5;241;43m=\u001B[39;49m\u001B[43mfapl\u001B[49m\u001B[43m)\u001B[49m\n\u001B[0;32m    236\u001B[0m \u001B[38;5;28;01melif\u001B[39;00m mode \u001B[38;5;241m==\u001B[39m \u001B[38;5;124m'\u001B[39m\u001B[38;5;124mr+\u001B[39m\u001B[38;5;124m'\u001B[39m:\n\u001B[0;32m    237\u001B[0m     fid \u001B[38;5;241m=\u001B[39m h5f\u001B[38;5;241m.\u001B[39mopen(name, h5f\u001B[38;5;241m.\u001B[39mACC_RDWR, fapl\u001B[38;5;241m=\u001B[39mfapl)\n",
      "File \u001B[1;32mh5py\\\\_objects.pyx:54\u001B[0m, in \u001B[0;36mh5py._objects.with_phil.wrapper\u001B[1;34m()\u001B[0m\n",
      "File \u001B[1;32mh5py\\\\_objects.pyx:55\u001B[0m, in \u001B[0;36mh5py._objects.with_phil.wrapper\u001B[1;34m()\u001B[0m\n",
      "File \u001B[1;32mh5py\\\\h5f.pyx:102\u001B[0m, in \u001B[0;36mh5py.h5f.open\u001B[1;34m()\u001B[0m\n",
      "\u001B[1;31mOSError\u001B[0m: Unable to synchronously open file (file signature not found)"
     ]
    }
   ],
   "execution_count": 12
  },
  {
   "cell_type": "code",
   "id": "5cfb48c2e1e02c7f",
   "metadata": {
    "ExecuteTime": {
     "end_time": "2025-04-07T08:51:48.292796Z",
     "start_time": "2025-04-07T08:51:48.282395Z"
    }
   },
   "source": [
    "# 2. Function to preprocess an image\n",
    "def preprocess_image(img_path):\n",
    "    # Load image and resize to 150x150 (same as training)\n",
    "    img = image.load_img(img_path, target_size=(150, 150))\n",
    "    # Convert to array\n",
    "    img_array = image.img_to_array(img)\n",
    "    # Rescale pixel values to [0, 1] (same as training)\n",
    "    img_array = img_array / 255.0\n",
    "    # Add batch dimension (shape: (1, 150, 150, 3))\n",
    "    img_array = np.expand_dims(img_array, axis=0)\n",
    "    return img_array"
   ],
   "outputs": [],
   "execution_count": 5
  },
  {
   "cell_type": "code",
   "id": "2a64a0d7",
   "metadata": {
    "ExecuteTime": {
     "end_time": "2025-04-07T08:52:45.147579Z",
     "start_time": "2025-04-07T08:52:45.141432Z"
    }
   },
   "source": [
    "# 3. Path to your test image (replace with your image path)\n",
    "test_image_path = \"C:/Users/ashwa/Downloads/chocolate-icecream-in-an-icecream-maker.jpg\""
   ],
   "outputs": [],
   "execution_count": 6
  },
  {
   "metadata": {
    "ExecuteTime": {
     "end_time": "2025-04-07T08:53:22.465222Z",
     "start_time": "2025-04-07T08:53:22.395072Z"
    }
   },
   "cell_type": "code",
   "source": [
    "# 4. Preprocess the test image\n",
    "preprocessed_image = preprocess_image(test_image_path)"
   ],
   "id": "80c80b5a7fffd0da",
   "outputs": [],
   "execution_count": 7
  },
  {
   "metadata": {
    "ExecuteTime": {
     "end_time": "2025-04-07T08:54:09.798840Z",
     "start_time": "2025-04-07T08:54:09.763481Z"
    }
   },
   "cell_type": "code",
   "source": [
    "# 5. Make a prediction\n",
    "prediction = model.predict(preprocessed_image)"
   ],
   "id": "28c6db9c1d682201",
   "outputs": [
    {
     "ename": "AttributeError",
     "evalue": "'str' object has no attribute 'predict'",
     "output_type": "error",
     "traceback": [
      "\u001B[1;31m---------------------------------------------------------------------------\u001B[0m",
      "\u001B[1;31mAttributeError\u001B[0m                            Traceback (most recent call last)",
      "Cell \u001B[1;32mIn[9], line 2\u001B[0m\n\u001B[0;32m      1\u001B[0m \u001B[38;5;66;03m# 5. Make a prediction\u001B[39;00m\n\u001B[1;32m----> 2\u001B[0m prediction \u001B[38;5;241m=\u001B[39m \u001B[43mmodel_path\u001B[49m\u001B[38;5;241;43m.\u001B[39;49m\u001B[43mpredict\u001B[49m(preprocessed_image)\n",
      "\u001B[1;31mAttributeError\u001B[0m: 'str' object has no attribute 'predict'"
     ]
    }
   ],
   "execution_count": 9
  },
  {
   "metadata": {},
   "cell_type": "code",
   "outputs": [],
   "execution_count": null,
   "source": [
    "# 6. Interpret the result\n",
    "threshold = 0.5\n",
    "if prediction[0][0] >= threshold:\n",
    "    print(f\"Prediction: Food (Probability: {prediction[0][0]:.4f})\")\n",
    "else:\n",
    "    print(f\"Prediction: Non-Food (Probability: {prediction[0][0]:.4f})\")"
   ],
   "id": "4e1abd488862dd8e"
  }
 ],
 "metadata": {
  "kernelspec": {
   "display_name": "mlenv",
   "language": "python",
   "name": "python3"
  },
  "language_info": {
   "codemirror_mode": {
    "name": "ipython",
    "version": 3
   },
   "file_extension": ".py",
   "mimetype": "text/x-python",
   "name": "python",
   "nbconvert_exporter": "python",
   "pygments_lexer": "ipython3",
   "version": "3.10.14"
  }
 },
 "nbformat": 4,
 "nbformat_minor": 5
}
